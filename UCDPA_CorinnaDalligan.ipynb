{
 "cells": [
  {
   "cell_type": "markdown",
   "id": "c3c93708",
   "metadata": {},
   "source": [
    "# # Final Submission for Introduction to Data Analytics for Business"
   ]
  },
  {
   "cell_type": "markdown",
   "id": "c8f5e3bd",
   "metadata": {},
   "source": [
    "My Final Submission is a study of tech salaries from multinational companies based in Ireland. The data is scraped from Levels.fyi. \n",
    "I will compare and contrast different career levels across different companies"
   ]
  },
  {
   "cell_type": "markdown",
   "id": "3762436b",
   "metadata": {},
   "source": [
    "# Import any Libraries required for the project"
   ]
  },
  {
   "cell_type": "code",
   "execution_count": null,
   "id": "e922efe8",
   "metadata": {},
   "outputs": [],
   "source": [
    "#One time only \n",
    "#!pip install pandas-datareader\n",
    "#!pip install matplotlib"
   ]
  },
  {
   "cell_type": "code",
   "execution_count": null,
   "id": "a1a5a63e",
   "metadata": {},
   "outputs": [],
   "source": [
    "import pandas as pd \n",
    "import pandas_profiling as pp\n",
    "import requests\n",
    "import numpy as np \n",
    "from datetime import datetime \n",
    "import missingno as msno\n",
    "import matplotlib.pyplot as plt \n",
    "import seaborn as sns \n",
    "import pandas_datareader as pdr\n",
    "import warnings\n",
    "import matplotlib"
   ]
  },
  {
   "cell_type": "markdown",
   "id": "240d202b",
   "metadata": {},
   "source": [
    "# Import Levels.fyi data and StockMarket Data"
   ]
  },
  {
   "cell_type": "code",
   "execution_count": null,
   "id": "5d31f5e2",
   "metadata": {},
   "outputs": [],
   "source": [
    "data = requests.get('https://www.levels.fyi/js/salaryData.json').json()\n",
    "df = pd.DataFrame(data)\n",
    "\n"
   ]
  },
  {
   "cell_type": "code",
   "execution_count": null,
   "id": "7e49d6dc",
   "metadata": {},
   "outputs": [],
   "source": [
    "# Define the instruments to download. We would like to see Apple, Microsoft and Intel.\n",
    "tickers = ['AAPL', 'MSFT', 'INTC','META']\n",
    "\n",
    "# We would like all available data from 01/01/2000 until 12/31/2016.\n",
    "start_date = '2022-01-01'\n",
    "end_date = '2022-12-31'\n",
    "\n",
    "# Use pandas_reader.data.DataReader to load the desired data. \n",
    "stock_data = pdr.data.DataReader(tickers, 'yahoo', start_date, end_date)\n",
    "print(stock_data.head())\n",
    "print(stock_data.dtypes)\n",
    "print(stock_data.index)"
   ]
  },
  {
   "cell_type": "markdown",
   "id": "eb6e4a7e",
   "metadata": {},
   "source": [
    "# Inspect the levels.fyi dataframe"
   ]
  },
  {
   "cell_type": "code",
   "execution_count": null,
   "id": "f09d4f46",
   "metadata": {},
   "outputs": [],
   "source": [
    "#check if the data has imported ok using head()\n",
    "df.head()"
   ]
  },
  {
   "cell_type": "code",
   "execution_count": null,
   "id": "f9a1d609",
   "metadata": {},
   "outputs": [],
   "source": [
    "#Check how many rows and columns are in the dataframe\n",
    "df.shape"
   ]
  },
  {
   "cell_type": "code",
   "execution_count": null,
   "id": "bffe2df1",
   "metadata": {},
   "outputs": [],
   "source": [
    "#Check the datatypes\n",
    "df.dtypes"
   ]
  },
  {
   "cell_type": "code",
   "execution_count": null,
   "id": "db14de09",
   "metadata": {},
   "outputs": [],
   "source": [
    "# Examine dataframe to examine columns and structure\n",
    "df.info()"
   ]
  },
  {
   "cell_type": "code",
   "execution_count": null,
   "id": "22559dbf",
   "metadata": {},
   "outputs": [],
   "source": [
    "#Pandas profiling takes several minutes to run so leaving commented out\n",
    "#df.profile_report()\n"
   ]
  },
  {
   "cell_type": "markdown",
   "id": "dcc11f97",
   "metadata": {},
   "source": [
    "# Inspecting the Levels.fyi Data"
   ]
  },
  {
   "cell_type": "markdown",
   "id": "a257788b",
   "metadata": {},
   "source": [
    "Looking at the data values in the individual columns of my dataframe for anomolies"
   ]
  },
  {
   "cell_type": "code",
   "execution_count": null,
   "id": "eb21d5ce",
   "metadata": {},
   "outputs": [],
   "source": [
    "#Check the values for years at company for any anomolies\n",
    "print('Unique values for YearsAtCompany: ')\n",
    "print(df['yearsatcompany'].unique())\n",
    "#Can see people have entered in values of 90 \n",
    "#Check how many rows have 90 for years at company\n",
    "print((df['yearsatcompany']=='90').sum(), ' outlier with value 90 for yearsatcompany. This should be cleaned up later.')\n"
   ]
  },
  {
   "cell_type": "code",
   "execution_count": null,
   "id": "402f46ad",
   "metadata": {},
   "outputs": [],
   "source": [
    "#Check the values for years of experience for any anomolies\n",
    "print('Unique values for YearsOfExperience: ')\n",
    "df['yearsofexperience'].unique()\n",
    "#Can see people have entered in values of 90 - these rows should be dropped\n",
    "#Check how many rows have 90 for years of experience\n",
    "print((df['yearsofexperience']=='90').sum(), ' outlier with value 90 for Years Of Experience. This should be cleaned up later.')"
   ]
  },
  {
   "cell_type": "code",
   "execution_count": null,
   "id": "06f32fb1",
   "metadata": {},
   "outputs": [],
   "source": [
    "#Check the values for gender for any anomolies\n",
    "print('Checking the Gender Column for anomalies: ')\n",
    "print(df['gender'].unique())\n",
    "#I can see nulls, Male, Female, Other, Title: Senior Software Engineer - this will need to be cleaned up also\n",
    "print('Null values and Invalid rows will be cleaned up later. ')\n"
   ]
  },
  {
   "cell_type": "code",
   "execution_count": null,
   "id": "cfbef624",
   "metadata": {},
   "outputs": [],
   "source": [
    "#Check the values for title for any anomolies\n",
    "print('Checking Titles: ')\n",
    "print(df['title'].unique())\n",
    "#These look ok\n"
   ]
  },
  {
   "cell_type": "code",
   "execution_count": null,
   "id": "acb29847",
   "metadata": {},
   "outputs": [],
   "source": [
    "#dealing with NA's.  This function gives output in a single value if any null is present or not.\n",
    "print('Checking for na values: ')\n",
    "print (df.isna().sum())\n",
    "# 0 in all column means there are no null values present in our dataset. If there was - I would have used the fillna() function to replace them with another value."
   ]
  },
  {
   "cell_type": "code",
   "execution_count": null,
   "id": "c51830c5",
   "metadata": {},
   "outputs": [],
   "source": [
    "#Check for Nulls\n",
    "df.isnull().sum()\n",
    "#All 0s mean there are none"
   ]
  },
  {
   "cell_type": "code",
   "execution_count": null,
   "id": "ee34e6bf",
   "metadata": {},
   "outputs": [],
   "source": [
    "#Check for duplicates\n",
    "print('Checking for duplicate rows: ')\n",
    "print(df.duplicated().sum(), ' duplicate row(s) present.')\n"
   ]
  },
  {
   "cell_type": "code",
   "execution_count": null,
   "id": "41259f59",
   "metadata": {},
   "outputs": [],
   "source": [
    "# Check if rownumber is unique - I will use this as my index\n",
    "df['rowNumber'].is_unique"
   ]
  },
  {
   "cell_type": "markdown",
   "id": "606ca14b",
   "metadata": {},
   "source": [
    "# Cleaning the Data"
   ]
  },
  {
   "cell_type": "markdown",
   "id": "ce40edf9",
   "metadata": {},
   "source": [
    "I can see that a number of rows in my dataframe require cleaning: \n",
    "\n",
    "    I have extra columns that I dont require.  \n",
    "    I have duplicate rows to clean\n",
    "    My Columns are all being treated as Objects, but should be dates, floats, integars etc\n",
    "    I have invalid entries for Gender\n"
   ]
  },
  {
   "cell_type": "code",
   "execution_count": null,
   "id": "b4f71a67",
   "metadata": {},
   "outputs": [],
   "source": [
    "# Drop unwanted columns\n",
    "df.drop(columns=['level','tag','otherdetails','dmaid'], inplace=True)\n",
    "\n",
    "#Check the dataframe again to confirm columns are gone\n",
    "print(df.info())"
   ]
  },
  {
   "cell_type": "code",
   "execution_count": null,
   "id": "f2363310",
   "metadata": {},
   "outputs": [],
   "source": [
    "#Replace empty and invalid entries for gender with NotDisclosed\n",
    "df['gender'].replace(['Title: Senior Software Engineer',''],'NotDisclosed', inplace=True)\n",
    "print(df['gender'].unique())"
   ]
  },
  {
   "cell_type": "code",
   "execution_count": null,
   "id": "f2f78a71",
   "metadata": {},
   "outputs": [],
   "source": [
    "#Drop duplicate row if required\n",
    "df.drop_duplicates (subset=None, keep='first', inplace=True)\n",
    "#Check again for duplicates - they should be gone now\n",
    "print(df.duplicated().sum(),' duplicate row(s) present.')"
   ]
  },
  {
   "cell_type": "code",
   "execution_count": null,
   "id": "f3bcf4f4",
   "metadata": {},
   "outputs": [],
   "source": [
    "# Convert some of the numeric columns that are classified as type 'object' to float and integar values\n",
    "df[[\"totalyearlycompensation\",\"basesalary\",\"stockgrantvalue\",\"bonus\",]]=df[[\"totalyearlycompensation\",\"basesalary\",\"stockgrantvalue\",\"bonus\",]].astype(float)\n",
    "df[[\"yearsofexperience\",\"yearsatcompany\",\"cityid\"]]=df[[\"yearsofexperience\",\"yearsatcompany\",\"cityid\"]].astype(int)\n",
    "print (df.info())\n"
   ]
  },
  {
   "cell_type": "code",
   "execution_count": null,
   "id": "8c7a13d2",
   "metadata": {},
   "outputs": [],
   "source": [
    "#Remove rows of data where the person has entered that they have over 50 years in the company\n",
    "print('Maximum number of years in Company: ',df['yearsatcompany'].max())\n",
    "print('Maximum number of years of Experience: ',df['yearsofexperience'].max())\n",
    "print ('Cleaning up entries > 50 for YearsAtCompany and YearsOfExperience')\n",
    "df=df[df['yearsatcompany']<51]\n",
    "df=df[df['yearsofexperience']<51]\n",
    "print('Maximum number of years in Company: ',df['yearsatcompany'].max())\n",
    "print('Maximum number of years of Experience: ',df['yearsofexperience'].max())"
   ]
  },
  {
   "cell_type": "code",
   "execution_count": null,
   "id": "062176be",
   "metadata": {},
   "outputs": [],
   "source": [
    "#Corinna Check accenture\n",
    "# Are there any entries for Intel?\n",
    "Intel=(df['company'] == 'Intel')\n",
    "df.loc[Intel]\n",
    "#957 entries"
   ]
  },
  {
   "cell_type": "code",
   "execution_count": null,
   "id": "7b0f9970",
   "metadata": {},
   "outputs": [],
   "source": [
    "#Convert all Company values to upper case to clean up examples such as amazon Amazon AMAZON\n",
    "df['company']=df['company'].str.upper()\n",
    "df['company']=df['company'].str.strip()\n"
   ]
  },
  {
   "cell_type": "code",
   "execution_count": null,
   "id": "d1a5a8d3",
   "metadata": {},
   "outputs": [],
   "source": [
    "#Convert timestamp to pandas datetime and keep just the date portion\n",
    "df['timestamp'] = pd.to_datetime(df['timestamp']).dt.date\n",
    "#Add a new column for Date\n",
    "#df['Date'] = df['timestamp'].dt.date\n",
    "#df['Date_New'] = df['timestamp'].dt.date\n",
    "#df.dtypes()"
   ]
  },
  {
   "cell_type": "code",
   "execution_count": null,
   "id": "f24f044f",
   "metadata": {},
   "outputs": [],
   "source": [
    "df.dtypes"
   ]
  },
  {
   "cell_type": "code",
   "execution_count": null,
   "id": "56ef1c3f",
   "metadata": {},
   "outputs": [],
   "source": [
    "df.info()"
   ]
  },
  {
   "cell_type": "code",
   "execution_count": null,
   "id": "efa35b74",
   "metadata": {},
   "outputs": [],
   "source": [
    "#Set the index on rownumber\n",
    "#df.reset_index(inplace = True)\n",
    "df.set_index('rowNumber',inplace=True)"
   ]
  },
  {
   "cell_type": "code",
   "execution_count": null,
   "id": "a702d64a",
   "metadata": {},
   "outputs": [],
   "source": [
    "#Rename columns for readability\n",
    "df.columns = [\"Date\",\"Company\",\"Title\",\"TCOMP\",\"Location\",\"YearsOfExperience\",\"YearsOfService\",\"BaseSalary\",\"StockGrant\",\"Bonus\", \"Gender\", \"CityId\"]"
   ]
  },
  {
   "cell_type": "code",
   "execution_count": null,
   "id": "4811f397",
   "metadata": {},
   "outputs": [],
   "source": [
    "#check that the un-required columns are gone from the dataframe and that the numeric values are no longer showing as object types\n",
    "df.info()"
   ]
  },
  {
   "cell_type": "code",
   "execution_count": null,
   "id": "39c29654",
   "metadata": {},
   "outputs": [],
   "source": [
    "#Maybe split the Location column?\n",
    "#df[['City','Code']] = df['Location'].str.split(' ', expand=True)"
   ]
  },
  {
   "cell_type": "code",
   "execution_count": null,
   "id": "8421f74e",
   "metadata": {},
   "outputs": [],
   "source": [
    "df.describe()"
   ]
  },
  {
   "cell_type": "markdown",
   "id": "d1095674",
   "metadata": {},
   "source": [
    "# Take a quick look at the survey results"
   ]
  },
  {
   "cell_type": "code",
   "execution_count": null,
   "id": "644694d6",
   "metadata": {},
   "outputs": [],
   "source": [
    "#Mean Number of years the person was in the company at the time of the survey\n",
    "print(\"Mean Years of Service: \" + str(df['YearsOfService'].mean()))\n",
    "\n",
    "#Average Number of years of Experience the person had at the time of the survey\n",
    "print(\"Mean Years of Experience: \" + str(df['YearsOfExperience'].mean()))\n"
   ]
  },
  {
   "cell_type": "code",
   "execution_count": null,
   "id": "b9f89cdf",
   "metadata": {},
   "outputs": [],
   "source": [
    "# Are there any entries for Intel?\n",
    "Intel=(df['Company'] == 'INTEL')\n",
    "df.loc[Intel]\n",
    "#957 entries"
   ]
  },
  {
   "cell_type": "code",
   "execution_count": null,
   "id": "6f277df9",
   "metadata": {},
   "outputs": [],
   "source": [
    "#Which Companies are located in Ireland\n",
    "InIreland=df[df[\"Location\"].str.contains(\"Ireland\")]\n",
    "print(InIreland['Company'].unique())\n",
    "# Convert to List\n",
    "FilteredCompanies=InIreland.Company.unique().tolist()"
   ]
  },
  {
   "cell_type": "markdown",
   "id": "ca93ede8",
   "metadata": {},
   "source": [
    "# Filter the dataframe for Multinational Companies of Interest based in Ireland"
   ]
  },
  {
   "cell_type": "code",
   "execution_count": null,
   "id": "e1e11ced",
   "metadata": {},
   "outputs": [],
   "source": [
    "print(FilteredCompanies)"
   ]
  },
  {
   "cell_type": "code",
   "execution_count": null,
   "id": "c7d699e2",
   "metadata": {},
   "outputs": [],
   "source": [
    "Filtereddf=(df['Company'].isin(FilteredCompanies)  & df['Location'].str.contains('Ireland',na=False))\n",
    "CompaniesInIrelanddf=df.loc[Filtereddf]\n",
    "CompaniesInIrelanddf"
   ]
  },
  {
   "cell_type": "code",
   "execution_count": null,
   "id": "23c21900",
   "metadata": {},
   "outputs": [],
   "source": [
    "CompaniesInIrelanddf.describe()"
   ]
  },
  {
   "cell_type": "code",
   "execution_count": null,
   "id": "1d8140cf",
   "metadata": {},
   "outputs": [],
   "source": [
    "#High Earners\n",
    "High_Earners = (CompaniesInIrelanddf['TCOMP'] > 200)\n",
    "CompaniesInIrelanddf.loc[High_Earners]"
   ]
  },
  {
   "cell_type": "code",
   "execution_count": null,
   "id": "1e66b0bc",
   "metadata": {},
   "outputs": [],
   "source": [
    "#Top TCOMP Companies\n",
    "IrishBaseSalarySorted=CompaniesInIrelanddf.sort_values(['TCOMP'],ascending=False)\n",
    "IrishBaseSalarySorted.head()"
   ]
  },
  {
   "cell_type": "code",
   "execution_count": null,
   "id": "2b6af46a",
   "metadata": {},
   "outputs": [],
   "source": [
    "\n",
    "IrishBaseSalaryStatistics=IrishBaseSalarySorted.groupby('Company')['BaseSalary'].agg(['mean', 'min', 'max'])\n",
    "IrishBaseSalaryStatistics.to_csv(\"IrishBaseSalaryStatistics1.csv\")\n",
    "print(IrishBaseSalaryStatistics)"
   ]
  },
  {
   "cell_type": "code",
   "execution_count": null,
   "id": "b463eeaa",
   "metadata": {},
   "outputs": [],
   "source": [
    "#company years of service statistics\n",
    "IrishYearsOfServiceStatistics=CompaniesInIrelanddf.groupby('Company')['YearsOfService'].agg(['mean', 'min', 'max'])   \n",
    "print(IrishYearsOfServiceStatistics)\n",
    "#CompaniesInIrelanddf.to_csv('CorinnaCheckYearsOfService.csv')"
   ]
  },
  {
   "cell_type": "code",
   "execution_count": null,
   "id": "8579dda2",
   "metadata": {},
   "outputs": [],
   "source": [
    "#export the CompaniesInIrelanddf dataframe to a csv file\n",
    "CompaniesInIrelanddf.to_csv('CompaniesInIreland_SalaryData.csv')"
   ]
  },
  {
   "cell_type": "code",
   "execution_count": null,
   "id": "5fa5028f",
   "metadata": {},
   "outputs": [],
   "source": [
    "msno.matrix(CompaniesInIrelanddf, figsize=(10, 5))"
   ]
  },
  {
   "cell_type": "code",
   "execution_count": null,
   "id": "bf4c6613",
   "metadata": {},
   "outputs": [],
   "source": [
    "#CompaniesInIrelanddf.profile_report()"
   ]
  },
  {
   "cell_type": "code",
   "execution_count": null,
   "id": "2537cfe9",
   "metadata": {},
   "outputs": [],
   "source": [
    "#Filter Base Salary outliers - filter top and bottom 5% \n",
    "CompaniesInIrelanddf_filtered = CompaniesInIrelanddf[CompaniesInIrelanddf['BaseSalary'].between(df['BaseSalary'].quantile(.05),df['BaseSalary'].quantile(.95))]\n",
    "CompaniesInIrelanddf_filtered = CompaniesInIrelanddf[CompaniesInIrelanddf['TCOMP'].between(df['TCOMP'].quantile(.05),df['BaseSalary'].quantile(.95))]"
   ]
  },
  {
   "cell_type": "code",
   "execution_count": null,
   "id": "73e086eb",
   "metadata": {},
   "outputs": [],
   "source": [
    "CompaniesInIrelanddf_filtered.to_csv('CompaniesInIreland_SalaryData_filtered.csv')"
   ]
  },
  {
   "cell_type": "markdown",
   "id": "23c6b381",
   "metadata": {},
   "source": [
    "# Visualize our Data"
   ]
  },
  {
   "cell_type": "code",
   "execution_count": null,
   "id": "1fb24e60",
   "metadata": {
    "scrolled": false
   },
   "outputs": [],
   "source": [
    "#Visualise TCOMP for top 10 companies\n",
    "TCOMPChart=CompaniesInIrelanddf_filtered.groupby(['Company'])['TCOMP'].mean().reset_index().sort_values('TCOMP',ascending = False )\n",
    "\n",
    "# Set the figure size - handy for larger output\n",
    "plt.rcParams[\"figure.figsize\"] = [20, 10]\n",
    "# Set up with a higher resolution screen\n",
    "%config InlineBackend.figure_format = 'retina'\n",
    "\n",
    "TCOMPChartTop10=TCOMPChart.nlargest(n=10, columns=['TCOMP'], keep=\"all\")\n",
    "#print(TCOMPChart.head(10))\n",
    "\n",
    "\n",
    "font1 = {'family':'serif','color':'blue','size':25}\n",
    "font2 = {'family':'serif','color':'darkred','size':20}\n",
    "\n",
    "#Rotate the x-axis labels and define labels\n",
    "plt.xticks(rotation=30, horizontalalignment=\"center\")\n",
    "plt.ylabel(\"TCOMP\" , fontdict = font2)\n",
    "plt.xlabel(\"Company\" , fontdict = font2)\n",
    "plt.title(\"TCOMP by Company\" , fontdict = font1) \n",
    "plt.bar(TCOMPChartTop10[\"Company\"],TCOMPChartTop10[\"TCOMP\"])\n",
    "plt.show()\n",
    "\n",
    "\n"
   ]
  },
  {
   "cell_type": "code",
   "execution_count": null,
   "id": "7d7d707c",
   "metadata": {},
   "outputs": [],
   "source": [
    "#Visualise TCOMP by Company and Gender using Seaborn\n",
    "sns.set(rc = {'figure.figsize':(20,10)})\n",
    "\n",
    "#Visualise TCOMP for top 10 companies\n",
    "SalaryByGender=CompaniesInIrelanddf_filtered.groupby(['Company','Gender'])['BaseSalary'].mean().reset_index().sort_values('BaseSalary',ascending = False )\n",
    "SalaryByGenderTop10=SalaryByGender.nlargest(n=10, columns=['BaseSalary'], keep=\"all\")\n",
    "# Set the figure size - handy for larger output\n",
    "#plt.rcParams[\"figure.figsize\"] = [20, 10]\n",
    "# Set up with a higher resolution screen\n",
    "#%config InlineBackend.figure_format = 'retina'\n",
    "\n",
    "#SalaryByGenderTop10=SalaryByGender.nlargest(n=10, columns=['TCOMP'], keep=\"all\")\n",
    "print(SalaryByGenderTop10.head())\n",
    "plt.xticks(rotation=-45)\n",
    "sns.barplot(data=SalaryByGenderTop10, y='BaseSalary', x='Company', hue='Gender')\n",
    "\n",
    "\n",
    "\n"
   ]
  },
  {
   "cell_type": "code",
   "execution_count": null,
   "id": "bcd99903",
   "metadata": {},
   "outputs": [],
   "source": [
    "#Create a Scattergraph Years of Experience to Total compensation\n",
    "\n",
    "# Change seaborn plot size\n",
    "fig = plt.gcf()\n",
    "fig.set_size_inches(12, 8)\n",
    "\n",
    "# Scatterplot arguments\n",
    "#sns.set(rc = {'figure.figsize':(12,8)})\n",
    "sns.lmplot(x='YearsOfExperience', y='TCOMP', data=CompaniesInIrelanddf_filtered,\n",
    "           fit_reg=False, # No regression line\n",
    "           hue='Gender').set(title='TCOMP per Year of Experience')   # Color by gender\n",
    "\n",
    "plt.ylim(0, 300)\n",
    "plt.xlim(-1, 35)"
   ]
  },
  {
   "cell_type": "code",
   "execution_count": null,
   "id": "4eb179b6",
   "metadata": {},
   "outputs": [],
   "source": [
    "# Suppress warnings\n",
    "warnings.filterwarnings('ignore')\n",
    "\n",
    "PairPlotdf=CompaniesInIrelanddf_filtered[[\"Company\",\"TCOMP\",\"BaseSalary\",\"YearsOfService\"]]\n",
    "PairPlotdf.to_csv('PairPlot.csv')\n",
    "data = pd.read_csv(\"PairPlot.csv\")\n",
    "sns.pairplot(data, hue='Company')"
   ]
  },
  {
   "cell_type": "markdown",
   "id": "5d88a5a0",
   "metadata": {},
   "source": [
    "# Custom Function to Plot Years of Service versus TCOMP"
   ]
  },
  {
   "cell_type": "code",
   "execution_count": null,
   "id": "4ba64b1a",
   "metadata": {},
   "outputs": [],
   "source": [
    "# Define a function called CorinnasPlotFunction - to fulfil scoring criteria\n",
    "\n",
    "# Set the figure size - handy for larger output\n",
    "plt.rcParams[\"figure.figsize\"] = [20, 10]\n",
    "# Set up with a higher resolution screen\n",
    "#%config InlineBackend.figure_format = 'retina'\n",
    "#matplotlib.style.use('fivethirtyeight')\n",
    "\n",
    "#CompaniesInIrelanddf_filtered by Gender\n",
    "FemaleSalaryIreland=(CompaniesInIrelanddf_filtered['Gender'].str.contains('Female',na=False))\n",
    "FemaleSalaryIrelanddf=CompaniesInIrelanddf_filtered.loc[FemaleSalaryIreland]\n",
    "FemaleSalaryIrelanddf=FemaleSalaryIrelanddf.groupby(['YearsOfExperience'])['TCOMP'].mean().reset_index().sort_values('YearsOfExperience',ascending = False )\n",
    "\n",
    "\n",
    "MaleSalaryIreland=(CompaniesInIrelanddf_filtered['Gender'].str.contains('Male',na=False))\n",
    "MaleSalaryIrelanddf=CompaniesInIrelanddf_filtered.loc[MaleSalaryIreland]\n",
    "MaleSalaryIrelanddf=MaleSalaryIrelanddf.groupby(['YearsOfExperience'])['TCOMP'].mean().reset_index().sort_values('YearsOfExperience',ascending = False )\n",
    "\n",
    "\n",
    "NDSalaryIreland=(CompaniesInIrelanddf_filtered['Gender'].str.contains('NotDisclosed',na=False))\n",
    "NDSalaryIrelanddf=CompaniesInIrelanddf_filtered.loc[NDSalaryIreland]\n",
    "NDSalaryIrelanddf=NDSalaryIrelanddf.groupby(['YearsOfExperience'])['TCOMP'].mean().reset_index().sort_values('YearsOfExperience',ascending = False )\n",
    "\n",
    "\n",
    "\n",
    "def CorinnasPlotFunction(x, y,color,linestyle,linewidth,marker):\n",
    "# Plot the inputs x,y in the provided colour\n",
    "   ax.plot(x, y, color=color, linestyle=linestyle, linewidth=linewidth, marker=marker)\n",
    "\n",
    "fig, ax = plt.subplots()\n",
    "CorinnasPlotFunction(FemaleSalaryIrelanddf[\"YearsOfExperience\"],FemaleSalaryIrelanddf[\"TCOMP\"], \"b\",\"solid\",\"8\",'*')\n",
    "CorinnasPlotFunction(MaleSalaryIrelanddf[\"YearsOfExperience\"],MaleSalaryIrelanddf[\"TCOMP\"], \"g\",\"dashed\",\"7\",'o')\n",
    "CorinnasPlotFunction(NDSalaryIrelanddf[\"YearsOfExperience\"],NDSalaryIrelanddf[\"TCOMP\"], \"r\",\"dotted\",\"6\",'o')\n",
    "ax.set_title(\"Years of Service versus TCOMP\",fontdict = font1)\n",
    "\n",
    "ax.set_xlabel(\"Years of Service\", fontdict = font2)\n",
    "ax.set_ylabel(\"TCOMP\", fontdict = font2)\n",
    "plt.show()\n"
   ]
  },
  {
   "cell_type": "markdown",
   "id": "dc1c6669",
   "metadata": {},
   "source": [
    "# Stock Data"
   ]
  },
  {
   "cell_type": "code",
   "execution_count": null,
   "id": "044fd567",
   "metadata": {},
   "outputs": [],
   "source": [
    "#Companies located in Ireland are in the InIreland dataframe\n",
    "\n",
    "# Convert to List\n",
    "FilteredTitles=InIreland.Title.unique().tolist()\n",
    "\n",
    "#Filter out undesired titles such as Marketing\n",
    "Irish_JobTitles_filtered = InIreland[InIreland['Title'].isin(['Software Engineer', 'Solution Architect', 'Business Analyst', 'Technical Program Manager', 'Data Scientist'])]\n",
    "Irish_JobTitles_filtered.head()\n",
    "newFilteredTitles=Irish_JobTitles_filtered.Title.unique().tolist()\n",
    "print(newFilteredTitles)\n",
    "\n",
    "\n",
    "Irish_StockGrantCompanies_filtered = Irish_JobTitles_filtered[Irish_JobTitles_filtered['StockGrant']>0]\n",
    "#Irish_StockGrantCompanies_filtered.to_csv(\"Irish_StockGrantCompanies_filtered1.csv\")\n",
    "\n",
    "\n",
    "newFilteredCompanies=Irish_StockGrantCompanies_filtered.Company.unique().tolist()\n",
    "print(newFilteredCompanies)\n",
    "\n",
    "#Drop Companies from the dataframe where unable to find a ticker in yahoo finance'\n",
    "NewSalarydf = Irish_StockGrantCompanies_filtered[~Irish_StockGrantCompanies_filtered['Company'].isin(['INTERCOM', 'STARTUP', 'SLACK', 'STRIPE', 'AWS', 'WALMART LABS', 'QUANTCAST','LINKEDIN','RIOT GAMES', 'FIREEYE', 'HUAWEI', 'REDDIT'])]\n",
    "\n",
    "# Stock ticker dictionary\n",
    "StockTicker = {'AMAZON':'AMZN', 'MICROSOFT':'MSFT','CISCO':'CSCO', 'GOOGLE':'GOOG', 'WORKDAY':'WDAY', 'FACEBOOK':'META','TOAST':'TOST', 'ARISTA NETWORKS':'ANET','MONGODB':'MDB','HUBSPOT':'HUBS','PIVOTAL':'PICC','TWILIO':'TWLO','EXPEDIA':'EXPE','SHUTTERSTOCK':'SSTK','VMWARE':'VMW','TENABLE':'TENB','QUALTRICS':'XM','SERVICENOW':'NOW','RAPID7':'RPD','ZALANDO':'ZLNDY','ZENDESK':'ZEN'}\n",
    "  \n",
    "# Mapping the dictionary keys to the data frame.\n",
    "NewSalarydf['Ticker'] = NewSalarydf['Company'].map(StockTicker)\n",
    "NewSalarydf.to_csv(\"NewSalarydf2.csv\")\n"
   ]
  },
  {
   "cell_type": "code",
   "execution_count": null,
   "id": "6c1c050c",
   "metadata": {},
   "outputs": [],
   "source": [
    "# Define the instruments to download. We would like to see Apple, Microsoft and Intel.\n",
    "\n",
    "tickers = ['XM','NOW','RPD','ZLNDY','ZEN','AMZN','CSCO','MSFT','GOOG','META','AAPL','MSFT', 'WDAY','GWRE','INTC','ORCL','TOST','ANET','MDB','HUBS','PICC','TWLO','EXPE','SSTK','VMW','TENB']\n",
    "start_date = '2022-11-11'\n",
    "end_date = '2022-11-11'\n",
    "\n",
    "# Use pandas_reader.data.DataReader to load the desired data. \n",
    "stock_data = pdr.data.DataReader(tickers, 'yahoo', start_date, end_date)\n",
    "print(stock_data.head())\n",
    "stock_data.to_csv(\"StockData.csv\")\n",
    "#print(stock_data.dtypes)\n",
    "#print(stock_data.index)\n"
   ]
  },
  {
   "cell_type": "code",
   "execution_count": null,
   "id": "075bba9e",
   "metadata": {},
   "outputs": [],
   "source": [
    "stock_data=stock_data.transpose()\n",
    "\n",
    "#Find the Stock Opening Price\n"
   ]
  },
  {
   "cell_type": "code",
   "execution_count": null,
   "id": "af41fbb8",
   "metadata": {},
   "outputs": [],
   "source": [
    "stock_data.head(50)\n",
    "#stock_data.info()\n",
    "#stock_data=stock_data[stock_data['Attributes'].isin(['Open'])]\n",
    "#stock_data.to_csv(\"TransposedStockData1.csv\")"
   ]
  },
  {
   "cell_type": "code",
   "execution_count": null,
   "id": "5d15200f",
   "metadata": {},
   "outputs": [],
   "source": [
    "#stock_data.to_csv(\"TransposedStock.csv\")\n",
    "stock_data = pd.read_csv('TransposedStock.csv')\n",
    "stock_data = stock_data[stock_data['Attributes'].isin(['Open'])]\n",
    "stock_data.set_index('Symbols')\n",
    "stock_data.columns = [\"RowNum\",\"Attributes\",\"Ticker\",\"OpeningPrice\"]\n",
    "stock_data.head()"
   ]
  },
  {
   "cell_type": "code",
   "execution_count": null,
   "id": "04bf301e",
   "metadata": {},
   "outputs": [],
   "source": [
    "stock_data.info()"
   ]
  },
  {
   "cell_type": "markdown",
   "id": "4603f0a1",
   "metadata": {},
   "source": [
    "# Merge Salary Dataframe and StockPrice Dataframe"
   ]
  },
  {
   "cell_type": "code",
   "execution_count": null,
   "id": "52a2df83",
   "metadata": {},
   "outputs": [],
   "source": [
    "#Test Merge\n",
    "MergeCompanyStockdf = pd.merge(NewSalarydf,\n",
    "                 stock_data[['Ticker', 'OpeningPrice']],\n",
    "                 on='Ticker')\n",
    "\n",
    "MergeCompanyStockdf.head()\n"
   ]
  },
  {
   "cell_type": "code",
   "execution_count": null,
   "id": "efab5279",
   "metadata": {},
   "outputs": [],
   "source": [
    "MergeCompanyStockdf.to_csv(\"MergeCompanyStock.csv\")"
   ]
  },
  {
   "cell_type": "code",
   "execution_count": null,
   "id": "c6484762",
   "metadata": {},
   "outputs": [],
   "source": [
    "Corinnas Project \n",
    "References \n",
    "    https://towardsdatascience.com/a-beginners-guide-to-grabbing-and-analyzing-salary-data-in-python-e8c60eab186e\n",
    "    #https://www.datasciencelearner.com/yahoo-finance-api-python/\n",
    "   https://www.youtube.com/watch?v=sgndYho8RyI\n",
    "    https://www.analyticsvidhya.com/blog/2021/12/stock-market-analysis-with-pandas-datareader-and-plotly-for-beginners/\n",
    "        https://www.shanelynn.ie/bar-plots-in-python-using-pandas-dataframes/\n",
    "        "
   ]
  },
  {
   "cell_type": "code",
   "execution_count": null,
   "id": "15cef40d",
   "metadata": {},
   "outputs": [],
   "source": []
  }
 ],
 "metadata": {
  "kernelspec": {
   "display_name": "Python 3",
   "language": "python",
   "name": "python3"
  },
  "language_info": {
   "codemirror_mode": {
    "name": "ipython",
    "version": 3
   },
   "file_extension": ".py",
   "mimetype": "text/x-python",
   "name": "python",
   "nbconvert_exporter": "python",
   "pygments_lexer": "ipython3",
   "version": "3.8.8"
  }
 },
 "nbformat": 4,
 "nbformat_minor": 5
}
